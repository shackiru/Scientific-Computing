{
 "cells": [
  {
   "cell_type": "code",
   "execution_count": null,
   "metadata": {},
   "outputs": [],
   "source": [
    "import numpy as np"
   ]
  },
  {
   "cell_type": "code",
   "execution_count": null,
   "metadata": {},
   "outputs": [],
   "source": [
    "a = 2\n",
    "b = 3\n",
    "n = 6\n",
    "\n",
    "boxWidth = (b-a) / (n-1)\n",
    "\n",
    "# membagi titik x dari a sampai b sejumlah n\n",
    "x = np.linspace(a, b, n)\n",
    "print(x[1] - x[0])\n",
    "\n",
    "# Menambil x sampai 1 sebelum terakhir\n",
    "xLeft = x[:1]\n",
    "\n",
    "def f(x):\n",
    "    return 6*x**2 - 4 * x + 2\n",
    "\n",
    "#mencari y dari XLeft\n",
    "yLeft = f(xLeft)\n",
    "\n",
    "#(p1 * 1) + (p2 * 1) + (p.. * 1)\n",
    "#1 * (jumlah panjangnya)\n",
    "leftRiemann = boxWidth * np.sum(yLeft)\n",
    "print(\"Left Riemann: \", leftRiemann)"
   ]
  }
 ],
 "metadata": {
  "kernelspec": {
   "display_name": "Python 3",
   "language": "python",
   "name": "python3"
  },
  "language_info": {
   "name": "python",
   "version": "3.11.0"
  },
  "orig_nbformat": 4
 },
 "nbformat": 4,
 "nbformat_minor": 2
}
