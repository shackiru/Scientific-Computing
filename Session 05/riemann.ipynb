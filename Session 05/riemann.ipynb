{
 "cells": [
  {
   "cell_type": "code",
   "execution_count": 1,
   "metadata": {},
   "outputs": [],
   "source": [
    "import numpy as np"
   ]
  },
  {
   "cell_type": "code",
   "execution_count": 8,
   "metadata": {},
   "outputs": [
    {
     "name": "stdout",
     "output_type": "stream",
     "text": [
      "0.20000000000000018\n",
      "[18.   22.24 26.96 32.16 37.84]\n",
      "Left Riemann:  27.439999999999998\n",
      "Right Niemann:  32.64\n",
      "Mid Point Riemann: 29.980000000000004\n",
      "Trapezoid:  30.04\n"
     ]
    }
   ],
   "source": [
    "a = 2\n",
    "b = 3\n",
    "n = 6\n",
    "\n",
    "boxWidth = (b-a) / (n-1)\n",
    "\n",
    "# membagi titik x dari a sampai b sejumlah n\n",
    "x = np.linspace(a, b, n)\n",
    "print(x[1] - x[0])\n",
    "\n",
    "# Menambil x sampai 1 sebelum terakhir\n",
    "xLeft = x[:-1]\n",
    "\n",
    "def f(x):\n",
    "    return 6*x**2 - 4 * x + 2\n",
    "\n",
    "#mencari y dari XLeft\n",
    "yLeft = f(xLeft)\n",
    "print(yLeft)\n",
    "\n",
    "#(p1 * 1) + (p2 * 1) + (p.. * 1)\n",
    "#1 * (jumlah panjangnya)\n",
    "leftRiemann = boxWidth * np.sum(yLeft)\n",
    "print(\"Left Riemann: \", leftRiemann)\n",
    "\n",
    "xRight = x[1:]\n",
    "yRight = f(xRight)\n",
    "rightRiemann = boxWidth * np.sum(np.abs(yRight))\n",
    "print(\"Right Niemann: \", rightRiemann)\n",
    "\n",
    "xMid = (xLeft + xRight) / 2\n",
    "yMid = f(xMid)\n",
    "midRiemann = boxWidth * np.sum(np.abs(yMid))\n",
    "print(\"Mid Point Riemann:\" ,midRiemann)\n",
    "\n",
    "trapezoid = np.sum(np.abs(yLeft) + np.abs(yRight)) / 2 * boxWidth\n",
    "print(\"Trapezoid: \", trapezoid)"
   ]
  }
 ],
 "metadata": {
  "kernelspec": {
   "display_name": "Python 3",
   "language": "python",
   "name": "python3"
  },
  "language_info": {
   "codemirror_mode": {
    "name": "ipython",
    "version": 3
   },
   "file_extension": ".py",
   "mimetype": "text/x-python",
   "name": "python",
   "nbconvert_exporter": "python",
   "pygments_lexer": "ipython3",
   "version": "3.11.0"
  },
  "orig_nbformat": 4,
  "vscode": {
   "interpreter": {
    "hash": "74cb0badc4ea317941f46c90ef19b36dd6ee6973a2d2098bec5521b019edcf41"
   }
  }
 },
 "nbformat": 4,
 "nbformat_minor": 2
}
