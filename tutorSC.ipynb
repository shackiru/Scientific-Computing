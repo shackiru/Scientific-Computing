{
 "cells": [
  {
   "cell_type": "code",
   "execution_count": 2,
   "metadata": {},
   "outputs": [],
   "source": [
    "import numpy as np\n",
    "import matplotlib.pyplot as plt\n",
    "from sympy import *"
   ]
  },
  {
   "cell_type": "code",
   "execution_count": 3,
   "metadata": {},
   "outputs": [],
   "source": [
    "mX = [\n",
    "        [\n",
    "            [10, 2, -6],\n",
    "            [-1, 4, 2],\n",
    "            [2, 3, 6]\n",
    "        ],\n",
    "        [\n",
    "            [-5, 2, -8],\n",
    "            [4, -3, -9],\n",
    "            [-8, -10, 9]\n",
    "        ],\n",
    "        [\n",
    "            [10, -5, 3, 0],\n",
    "            [3, -9, 2, -2],\n",
    "            [-8, 0, 17, -4],\n",
    "            [3, -3, -8, -15]\n",
    "        ],\n",
    "]\n",
    "\n",
    "mY = [\n",
    "    [17, -4, -12],\n",
    "    [13, -7, -2],\n",
    "    [9, 10, -10, -18]\n",
    "]\n"
   ]
  },
  {
   "cell_type": "code",
   "execution_count": 4,
   "metadata": {},
   "outputs": [],
   "source": [
    "# CHECK DIAGONALLY DOMINANT\n",
    "def checkDiagonallyDominant(x):\n",
    "    x = np.array(x)\n",
    "\n",
    "    diagonal = np.diag(np.abs(x))\n",
    "    sumWithDiagonal = np.sum(np.abs(x), axis = 1)\n",
    "    sumWithoutDiagonal = sumWithDiagonal - diagonal\n",
    "\n",
    "    if np.all(diagonal > sumWithoutDiagonal):\n",
    "        return True\n",
    "    else:\n",
    "        return False"
   ]
  },
  {
   "cell_type": "code",
   "execution_count": 5,
   "metadata": {},
   "outputs": [],
   "source": [
    "# GAUSS SEIDEL\n",
    "def gaussSeidel(x, y, tolerance, max):\n",
    "    x = np.array(x)\n",
    "    y = np.array(y)\n",
    "    flag = 0\n",
    "\n",
    "    diagonal = np.diag(x)\n",
    "    x = -x\n",
    "    np.fill_diagonal(x, 0)\n",
    "\n",
    "    xBefore = np.zeros(x.shape[0])\n",
    "    for i in range(1, max + 1):\n",
    "        xNew = np.array(xBefore)\n",
    "\n",
    "        if flag == 0:\n",
    "            for j, row in enumerate(x):\n",
    "                print(f\"X{j} = {y[j]}\", end = \" \")\n",
    "\n",
    "                for k, ele in enumerate(row):\n",
    "                    if j != k:\n",
    "                        print(f\" + ({ele}x{k})\", end = \" \")\n",
    "                        \n",
    "                print(f\"/ {diagonal[j]}\")\n",
    "                flag = 1\n",
    "\n",
    "        print(f\"Iteration: {i}|\", )\n",
    "        for j, row in enumerate(x):\n",
    "            xNew[j] = (y[j] + np.dot(row, xNew)) / diagonal[j]\n",
    "            print(f\"X{j + 1} = \", end = \" \")\n",
    "            print(format(xNew[j], \".9f\"), end=\" \")\n",
    "\n",
    "        print(\"\")\n",
    "        distance = np.sqrt(np.dot(xNew - xBefore, xNew - xBefore))\n",
    "        if distance < tolerance:\n",
    "            return True\n",
    "        xBefore = xNew\n",
    "        \n",
    "    return False"
   ]
  },
  {
   "cell_type": "code",
   "execution_count": 6,
   "metadata": {},
   "outputs": [
    {
     "name": "stdout",
     "output_type": "stream",
     "text": [
      "X0 = 17  + (-2x1)  + (6x2) / 10\n",
      "X1 = -4  + (1x0)  + (-2x2) / 4\n",
      "X2 = -12  + (-2x0)  + (-3x1) / 6\n",
      "Iteration: 1|\n",
      "X1 =  1.700000000 X2 =  -0.575000000 X3 =  -2.279166667 \n",
      "Iteration: 2|\n",
      "X1 =  0.447500000 X2 =  0.251458333 X3 =  -2.274895833 \n",
      "Iteration: 3|\n",
      "X1 =  0.284770833 X2 =  0.208640625 X3 =  -2.199243924 \n",
      "Iteration: 4|\n",
      "X1 =  0.338725521 X2 =  0.184303342 X3 =  -2.205060178 \n",
      "Iteration: 5|\n",
      "X1 =  0.340103225 X2 =  0.187555895 X3 =  -2.207145689 \n",
      "True\n",
      "Not Diagonally Dominant\n",
      "X0 = 9  + (5x1)  + (-3x2)  + (0x3) / 10\n",
      "X1 = 10  + (-3x0)  + (-2x2)  + (2x3) / -9\n",
      "X2 = -10  + (8x0)  + (0x1)  + (4x3) / 17\n",
      "X3 = -18  + (-3x0)  + (3x1)  + (8x2) / -15\n",
      "Iteration: 1|\n",
      "X1 =  0.900000000 X2 =  -0.811111111 X3 =  -0.164705882 X4 =  1.630065359 \n",
      "Iteration: 2|\n",
      "X1 =  0.543856209 X2 =  -1.328663762 X3 =  0.051241830 X4 =  1.547175018 \n",
      "Iteration: 3|\n",
      "X1 =  0.220295570 X2 =  -1.370108852 X3 =  -0.120525610 X4 =  1.582361210 \n",
      "Iteration: 4|\n",
      "X1 =  0.251103257 X2 =  -1.405829319 X3 =  -0.097748771 X4 =  1.583519193 \n",
      "Iteration: 5|\n",
      "X1 =  0.226409972 X2 =  -1.409256224 X3 =  -0.109096674 X4 =  1.585318132 \n",
      "False\n"
     ]
    }
   ],
   "source": [
    "for i, (x, y) in enumerate(zip(mX, mY)):\n",
    "    if(checkDiagonallyDominant(x)):\n",
    "        print(gaussSeidel(x, y, 0.01456, 5))\n",
    "    else:\n",
    "        print(\"Not Diagonally Dominant\")"
   ]
  },
  {
   "cell_type": "code",
   "execution_count": 7,
   "metadata": {},
   "outputs": [],
   "source": [
    "# LEAST SQUARE FIT\n",
    "lx = [1, 5, 7, 2, 3, 9, 10, 4, 6, 8]\n",
    "ly = [34, 51, 80, 25, 90, 76, 100, 11, 45, 62]"
   ]
  },
  {
   "cell_type": "code",
   "execution_count": 8,
   "metadata": {},
   "outputs": [
    {
     "data": {
      "image/png": "[encoded data removed]",
      "text/plain": [
       "<Figure size 640x480 with 1 Axes>"
      ]
     },
     "metadata": {},
     "output_type": "display_data"
    }
   ],
   "source": [
    "A = np.vstack([lx, np.ones(len(lx))]).T\n",
    "Y = np.vstack(ly)\n",
    "\n",
    "invers = np.linalg.inv(np.dot(A.T, A))\n",
    "beta = np.dot(np.dot(invers, A.T), Y)\n",
    "\n",
    "m = beta[0]\n",
    "c = beta[1]\n",
    "\n",
    "yb = m*lx + c\n",
    "plt.plot(lx, ly, \"go\", label = \"(x, y) Points\")\n",
    "plt.plot(lx, yb, \"r-\", label = \"Least Square Regression\")\n",
    "plt.legend(loc = \"upper left\")\n",
    "plt.xlabel(\"X\")\n",
    "plt.ylabel(\"Y\")\n",
    "plt.title(\"Least Square Regression\")\n",
    "plt.show()"
   ]
  },
  {
   "cell_type": "code",
   "execution_count": 9,
   "metadata": {},
   "outputs": [
    {
     "name": "stdout",
     "output_type": "stream",
     "text": [
      "23\n",
      "Iteration 1, root :  0.782608695652174\n",
      "Iteration 2, root :  0.6210684619745717\n",
      "Iteration 3, root :  0.4941304782745192\n",
      "Iteration 4, root :  0.3675198418052212\n",
      "Iteration 5, root :  -0.11948918023737432\n",
      "False\n",
      "Iteration 1, root :  0.8382352941176471\n",
      "Iteration 2, root :  0.7357300136098767\n",
      "Iteration 3, root :  0.6956565368667311\n",
      "Iteration 4, root :  0.6903195287760319\n",
      "0.6903195287760319\n",
      "True\n"
     ]
    }
   ],
   "source": [
    "x = symbols('x')\n",
    "\n",
    "f1 = lambda x : 7*x**4 - 3*x**2 + x\n",
    "df1 = diff(f1(x), x)\n",
    "df1 = lambdify(x, df1, 'numpy')\n",
    "\n",
    "print(df1(1))\n",
    "\n",
    "f2 = lambda x : 8*x**6 + 5*x**4 - 2\n",
    "df2 = diff(f2(x), x)\n",
    "df2 = lambdify(x, df2, 'numpy')\n",
    "\n",
    "def newtonRaphson(f, df, x, tolerance, limit):\n",
    "    if limit == 6:\n",
    "        return False\n",
    "    \n",
    "    if limit > 0:\n",
    "        print(f\"Iteration {limit}, root :  {x}\")\n",
    "        \n",
    "    if np.abs(f(x)) < tolerance:\n",
    "        print(x)\n",
    "        return True\n",
    "    \n",
    "    return newtonRaphson(f, df, x - (f(x)/df(x)), tolerance, limit + 1)\n",
    "    \n",
    "print(newtonRaphson(f1, df1, 1, 0.006541, 0))\n",
    "print(newtonRaphson(f2, df2, 1, 0.006541, 0))"
   ]
  },
  {
   "cell_type": "code",
   "execution_count": 10,
   "metadata": {},
   "outputs": [
    {
     "name": "stdout",
     "output_type": "stream",
     "text": [
      "Left Riemann:  645.1387652149571\n",
      "Right Riemann:  530.2422134908192\n",
      "Mid Riemann:  580.4556464297783\n",
      "Trapezoid:  587.690489352888\n"
     ]
    }
   ],
   "source": [
    "f = lambda x : 3*x**4 - 7*x**2 + 5\n",
    "\n",
    "limUnder = -4\n",
    "limUpper = 3\n",
    "n = 30\n",
    "\n",
    "x = np.linspace(limUnder, limUpper, n)\n",
    "width = (limUpper - limUnder) / (n - 1)\n",
    "\n",
    "xLeft = x[:-1]\n",
    "xRight = x[1:]\n",
    "xMid = (xLeft + xRight) / 2\n",
    "\n",
    "yLeft = f(xLeft)\n",
    "yRight = f(xRight)\n",
    "yMid = f(xMid)\n",
    "\n",
    "leftRiemann = width * np.sum(np.abs(yLeft))\n",
    "rightRiemann = width * np.sum(np.abs(yRight))\n",
    "midRiemann = width * np.sum(np.abs(yMid))\n",
    "\n",
    "trapezoid = width * np.sum(np.abs(yLeft)  + (np.abs(yRight))) / 2\n",
    "\n",
    "print(\"Left Riemann: \", leftRiemann)\n",
    "print(\"Right Riemann: \", rightRiemann)\n",
    "print(\"Mid Riemann: \", midRiemann)\n",
    "print(\"Trapezoid: \", trapezoid)"
   ]
  }
 ],
 "metadata": {
  "kernelspec": {
   "display_name": "Python 3",
   "language": "python",
   "name": "python3"
  },
  "language_info": {
   "codemirror_mode": {
    "name": "ipython",
    "version": 3
   },
   "file_extension": ".py",
   "mimetype": "text/x-python",
   "name": "python",
   "nbconvert_exporter": "python",
   "pygments_lexer": "ipython3",
   "version": "3.11.0"
  },
  "orig_nbformat": 4
 },
 "nbformat": 4,
 "nbformat_minor": 2
}
