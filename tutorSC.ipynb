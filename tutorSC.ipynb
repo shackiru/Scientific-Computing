{
 "cells": [
  {
   "cell_type": "code",
   "execution_count": 1,
   "metadata": {},
   "outputs": [],
   "source": [
    "import numpy as np\n",
    "import matplotlib.pyplot as plt\n",
    "from sympy import *"
   ]
  },
  {
   "cell_type": "code",
   "execution_count": 2,
   "metadata": {},
   "outputs": [],
   "source": [
    "mX = [\n",
    "        [\n",
    "            [10, 2, -6],\n",
    "            [-1, 4, 2],\n",
    "            [2, 3, 6]\n",
    "        ],\n",
    "        [\n",
    "            [-5, 2, -8],\n",
    "            [4, -3, -9],\n",
    "            [-8, -10, 9]\n",
    "        ],\n",
    "        [\n",
    "            [10, -5, 3, 0],\n",
    "            [3, -9, 2, -2],\n",
    "            [-8, 0, 17, -4],\n",
    "            [3, -3, -8, -15]\n",
    "        ],\n",
    "]\n",
    "\n",
    "mY = [\n",
    "    [17, -4, -12],\n",
    "    [13, -7, -2],\n",
    "    [9, 10, -10, -18]\n",
    "]\n"
   ]
  },
  {
   "cell_type": "code",
   "execution_count": 7,
   "metadata": {},
   "outputs": [],
   "source": [
    "# CHECK DIAGONALLY DOMINANT\n",
    "def checkDiagonallyDominant(x):\n",
    "    x = np.array(x)\n",
    "\n",
    "    diagonal = np.diag(np.abs(x))\n",
    "    sumWithDiagonal = np.sum(np.abs(x), axis = 1)\n",
    "    sumWithoutDiagonal = sumWithDiagonal - diagonal\n",
    "\n",
    "    if np.all(diagonal > sumWithoutDiagonal):\n",
    "        return True\n",
    "    else:\n",
    "        return False"
   ]
  },
  {
   "cell_type": "code",
   "execution_count": 34,
   "metadata": {},
   "outputs": [],
   "source": [
    "# GAUSS SEIDEL\n",
    "def gaussSeidel(x, y, tolerance, max):\n",
    "    x = np.array(x)\n",
    "    y = np.array(y)\n",
    "    flag = 0\n",
    "\n",
    "    diagonal = np.diag(x)\n",
    "    x = -x\n",
    "    np.fill_diagonal(x, 0)\n",
    "\n",
    "    xBefore = np.zeros(x.shape[0])\n",
    "    for i in range(1, max + 1):\n",
    "        xNew = np.array(xBefore)\n",
    "\n",
    "        if flag == 0:\n",
    "            for j, row in enumerate(x):\n",
    "                print(f\"X{j} = {y[j]}\", end = \" \")\n",
    "\n",
    "                for k, ele in enumerate(row):\n",
    "                    if j != k:\n",
    "                        print(f\" + ({ele}x{k})\", end = \" \")\n",
    "                        \n",
    "                print(f\"/ {diagonal[j]}\")\n",
    "                flag = 1\n",
    "\n",
    "        print(f\"Iteration: {i}|\", )\n",
    "        for j, row in enumerate(x):\n",
    "            xNew[j] = (y[j] + np.dot(row, xNew)) / diagonal[j]\n",
    "            print(f\"X{j + 1} = \", end = \" \")\n",
    "            print(format(xNew[j], \".9f\"), end=\" \")\n",
    "\n",
    "        print(\"\")\n",
    "        distance = np.sqrt(np.dot(xNew - xBefore, xNew - xBefore))\n",
    "        if distance < tolerance:\n",
    "            return True\n",
    "        xBefore = xNew\n",
    "        \n",
    "    return False"
   ]
  },
  {
   "cell_type": "code",
   "execution_count": null,
   "metadata": {},
   "outputs": [],
   "source": [
    "for i, (x, y) in enumerate(zip(mX, mY)):\n",
    "    if(checkDiagonallyDominant(x)):\n",
    "        print(gaussSeidel(x, y, 0.01456, 5))\n",
    "    else:\n",
    "        print(\"Not Diagonally Dominant\")"
   ]
  },
  {
   "cell_type": "code",
   "execution_count": null,
   "metadata": {},
   "outputs": [],
   "source": [
    "# LEAST SQUARE FIT\n",
    "x = [1, 5, 7, 2, 3, 9, 10, 4, 6, 8]\n",
    "y = [34, 51, 80, 25, 90, 76, 100, 11, 45, 62]"
   ]
  },
  {
   "cell_type": "code",
   "execution_count": null,
   "metadata": {},
   "outputs": [],
   "source": []
  }
 ],
 "metadata": {
  "kernelspec": {
   "display_name": "Python 3",
   "language": "python",
   "name": "python3"
  },
  "language_info": {
   "codemirror_mode": {
    "name": "ipython",
    "version": 3
   },
   "file_extension": ".py",
   "mimetype": "text/x-python",
   "name": "python",
   "nbconvert_exporter": "python",
   "pygments_lexer": "ipython3",
   "version": "3.11.0"
  },
  "orig_nbformat": 4
 },
 "nbformat": 4,
 "nbformat_minor": 2
}
