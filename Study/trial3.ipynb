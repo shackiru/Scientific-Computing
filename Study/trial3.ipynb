{
 "cells": [
  {
   "cell_type": "code",
   "execution_count": 36,
   "metadata": {},
   "outputs": [],
   "source": [
    "import numpy as np\n",
    "import matplotlib.pyplot as plt\n",
    "from sympy import *"
   ]
  },
  {
   "cell_type": "code",
   "execution_count": 37,
   "metadata": {},
   "outputs": [],
   "source": [
    "mX = [\n",
    "        [\n",
    "            [10, 2, -6],\n",
    "            [-1, 4, 2],\n",
    "            [2, 3, 6]\n",
    "        ],\n",
    "        [\n",
    "            [-5, 2, -8],\n",
    "            [4, -3, -9],\n",
    "            [-8, -10, 9]\n",
    "        ],\n",
    "        [\n",
    "            [10, -5, 3, 0],\n",
    "            [3, -9, 2, -2],\n",
    "            [-8, 0, 17, -4],\n",
    "            [3, -3, -8, -15]\n",
    "        ],\n",
    "]\n",
    "\n",
    "mY = [\n",
    "    [17, -4, -12],\n",
    "    [13, -7, -2],\n",
    "    [9, 10, -10, -18]\n",
    "]"
   ]
  },
  {
   "cell_type": "code",
   "execution_count": 38,
   "metadata": {},
   "outputs": [],
   "source": [
    "def dominant(x):\n",
    "    x = np.array(x)\n",
    "    diagonal = np.diag(np.abs(x))\n",
    "    sumWithDiagonal = np.sum(np.abs(x), axis = 1)\n",
    "    sumWithoutDiagonal = sumWithDiagonal - diagonal\n",
    "\n",
    "    if np.all(diagonal > sumWithoutDiagonal):\n",
    "        return True\n",
    "    else:\n",
    "        return False"
   ]
  },
  {
   "cell_type": "code",
   "execution_count": 39,
   "metadata": {},
   "outputs": [],
   "source": [
    "def seidel(x, y, tol, max):\n",
    "    x = np.array(x)\n",
    "    y = np.array(y)\n",
    "    flag = 0\n",
    "\n",
    "    diagonal = np.diag(x)\n",
    "    x = -x\n",
    "    np.fill_diagonal(x, 0)\n",
    "    xbef = np.zeros(x.shape[0])\n",
    "\n",
    "    for i in range(len(x)):\n",
    "        xn = np.array(xbef)\n",
    "        if flag == 0:\n",
    "            for j, row in enumerate(x):\n",
    "                print(f\"X{j} = {y[j]}\", end=\" \")\n",
    "                for k, ele in enumerate(row):\n",
    "                    if j != k:\n",
    "                        print(f\" + ({ele} x {k})\", end=\" \")\n",
    "                print(f\" / {diagonal[j]}\")\n",
    "                flag = 1\n",
    "        print(f\"Iteration: {i}|\")\n",
    "        for j, row in enumerate(x):\n",
    "            xn[j] = (y[j] + np.dot(row, xn)) / diagonal[j]\n",
    "            print(f\"X{j + 1} = \", end=\" \")\n",
    "            print(format(xn[j], \".9f\"), end=\" \")\n",
    "        print(\"\")\n",
    "        distance = np.sqrt(np.dot(xn - xbef, xn -xbef))\n",
    "        if distance < tol:\n",
    "            return True\n",
    "        xbef = xn\n",
    "    return false"
   ]
  },
  {
   "cell_type": "code",
   "execution_count": 40,
   "metadata": {},
   "outputs": [
    {
     "name": "stdout",
     "output_type": "stream",
     "text": [
      "diagonally dominant\n",
      "X0 = 17  + (-2 x 1)  + (6 x 2)  / 10\n",
      "X1 = -4  + (1 x 0)  + (-2 x 2)  / 4\n",
      "X2 = -12  + (-2 x 0)  + (-3 x 1)  / 6\n",
      "Iteration: 0|\n",
      "X1 =  1.700000000 X2 =  -0.575000000 X3 =  -2.279166667 \n",
      "Iteration: 1|\n",
      "X1 =  0.447500000 X2 =  0.251458333 X3 =  -2.274895833 \n",
      "Iteration: 2|\n",
      "X1 =  0.284770833 X2 =  0.208640625 X3 =  -2.199243924 \n",
      "False\n",
      "not diagonally dominant\n",
      "diagonally dominant\n",
      "X0 = 9  + (5 x 1)  + (-3 x 2)  + (0 x 3)  / 10\n",
      "X1 = 10  + (-3 x 0)  + (-2 x 2)  + (2 x 3)  / -9\n",
      "X2 = -10  + (8 x 0)  + (0 x 1)  + (4 x 3)  / 17\n",
      "X3 = -18  + (-3 x 0)  + (3 x 1)  + (8 x 2)  / -15\n",
      "Iteration: 0|\n",
      "X1 =  0.900000000 X2 =  -0.811111111 X3 =  -0.164705882 X4 =  1.630065359 \n",
      "Iteration: 1|\n",
      "X1 =  0.543856209 X2 =  -1.328663762 X3 =  0.051241830 X4 =  1.547175018 \n",
      "Iteration: 2|\n",
      "X1 =  0.220295570 X2 =  -1.370108852 X3 =  -0.120525610 X4 =  1.582361210 \n",
      "Iteration: 3|\n",
      "X1 =  0.251103257 X2 =  -1.405829319 X3 =  -0.097748771 X4 =  1.583519193 \n",
      "False\n"
     ]
    }
   ],
   "source": [
    "for i, (x,y) in enumerate(zip(mX, mY)):\n",
    "    if(dominant(x)):\n",
    "        print(\"diagonally dominant\")\n",
    "        print(seidel(x, y, 0.01456, 5))\n",
    "    else:\n",
    "        print(\"not diagonally dominant\")"
   ]
  },
  {
   "cell_type": "code",
   "execution_count": 41,
   "metadata": {},
   "outputs": [],
   "source": [
    "lx = [1, 5, 7, 2, 3, 9, 10, 4, 6, 8]\n",
    "ly = [34, 51, 80, 25, 90, 76, 100, 11, 45, 62]"
   ]
  },
  {
   "cell_type": "code",
   "execution_count": 42,
   "metadata": {},
   "outputs": [
    {
     "data": {
      "image/png": "[encoded data removed]",
      "text/plain": [
       "<Figure size 640x480 with 1 Axes>"
      ]
     },
     "metadata": {},
     "output_type": "display_data"
    }
   ],
   "source": [
    "A = np.vstack([lx, np.ones(len(lx))]).T\n",
    "Y = np.vstack(ly)\n",
    "\n",
    "invers = np.linalg.inv(np.dot(A.T, A))\n",
    "beta = np.dot(np.dot(invers, A.T), Y)\n",
    "\n",
    "m = beta[0]\n",
    "c = beta[1]\n",
    "\n",
    "yb = m * lx + c\n",
    "plt.plot(lx, ly, \"go\", label=\"x,y points\")\n",
    "plt.plot(lx, yb, \"m-\", \"lft\")\n",
    "plt.legend(loc = \"upper left\")\n",
    "plt.xlabel(\"X\")\n",
    "plt.ylabel(\"Y\")\n",
    "plt.title(\"least fit regression\")\n",
    "plt.show()"
   ]
  },
  {
   "cell_type": "code",
   "execution_count": 43,
   "metadata": {},
   "outputs": [
    {
     "name": "stdout",
     "output_type": "stream",
     "text": [
      "Iteration: 1, root = 0.5294117647058824\n",
      "Iteration: 2, root = -1.2010923090697458\n",
      "Iteration: 3, root = -0.832038535544258\n",
      "Iteration: 4, root = -0.6600591977992907\n",
      "Iteration: 5, root = -0.6183169238793849\n",
      "False\n",
      "Iteration: 1, root = 0.8181818181818181\n",
      "Iteration: 2, root = 0.6921642005872531\n",
      "Iteration: 3, root = 0.6196579671463581\n",
      "Iteration: 4, root = 0.5932125176320585\n",
      "Iteration: 5, root = 0.5898077033288729\n",
      "0.5898077033288729\n",
      "True\n"
     ]
    }
   ],
   "source": [
    "x = symbols('x')\n",
    "\n",
    "f1 = lambda x: 9*x**3 - 5*x**2 + 4\n",
    "df1 = diff(f1(x), x)\n",
    "df1 = lambdify(x, df1, 'numpy')\n",
    "\n",
    "f2 = lambda x: 8*x**5 + 4*x**3 - 3*x**2 - x**2\n",
    "df2 = diff(f2(x), x)\n",
    "df2 = lambdify(x, df2, 'numpy')\n",
    "\n",
    "def nr(f, df, x, tol, max):\n",
    "    if max == 6:\n",
    "        return False\n",
    "    if max > 0:\n",
    "        print(f\"Iteration: {max}, root = {x}\")\n",
    "    if np.abs(f(x)) < tol:\n",
    "        print(x)\n",
    "        return True\n",
    "    return nr(f, df, x -(f(x)/ df(x)), tol, max + 1)\n",
    "print(nr(f1, df1, 1, 0.01456, 0))\n",
    "print(nr(f2, df2, 1, 0.01456, 0))"
   ]
  },
  {
   "cell_type": "code",
   "execution_count": 44,
   "metadata": {},
   "outputs": [
    {
     "name": "stdout",
     "output_type": "stream",
     "text": [
      "left:  759.6204224346478\n",
      "right:  699.5169741587857\n",
      "mid:  725.0383343041875\n",
      "trapezoid:  729.5686982967165\n"
     ]
    }
   ],
   "source": [
    "f = lambda x: 9*x**3 + 4*x**2 - 8\n",
    "un = -4\n",
    "up = 3\n",
    "n = 30\n",
    "\n",
    "x = np.linspace(un, up, n)\n",
    "\n",
    "xl = x[:-1]\n",
    "xr = x[1:]\n",
    "xm = (xl + xr) / 2\n",
    "\n",
    "yl = f(xl)\n",
    "yr = f(xr)\n",
    "ym = f(xm)\n",
    "\n",
    "width = (up - un) / (n - 1)\n",
    "left = width * np.sum(np.abs(yl))\n",
    "right = width * np.sum(np.abs(yr))\n",
    "mid = width * np.sum(np.abs(ym))\n",
    "trap = width * np.sum(np.abs(yl) + (np.abs(yr))) / 2\n",
    "\n",
    "print(\"left: \", left)\n",
    "print(\"right: \", right)\n",
    "print(\"mid: \", mid)\n",
    "print(\"trapezoid: \", trap)"
   ]
  }
 ],
 "metadata": {
  "kernelspec": {
   "display_name": "Python 3",
   "language": "python",
   "name": "python3"
  },
  "language_info": {
   "codemirror_mode": {
    "name": "ipython",
    "version": 3
   },
   "file_extension": ".py",
   "mimetype": "text/x-python",
   "name": "python",
   "nbconvert_exporter": "python",
   "pygments_lexer": "ipython3",
   "version": "3.11.0"
  },
  "orig_nbformat": 4,
  "vscode": {
   "interpreter": {
    "hash": "74cb0badc4ea317941f46c90ef19b36dd6ee6973a2d2098bec5521b019edcf41"
   }
  }
 },
 "nbformat": 4,
 "nbformat_minor": 2
}
