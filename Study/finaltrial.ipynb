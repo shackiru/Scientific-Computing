{
 "cells": [
  {
   "cell_type": "code",
   "execution_count": null,
   "metadata": {},
   "outputs": [],
   "source": [
    "import numpy as np\n",
    "import matplotlib.pyplot as plt\n",
    "from sympy import *"
   ]
  },
  {
   "cell_type": "code",
   "execution_count": null,
   "metadata": {},
   "outputs": [],
   "source": [
    "def dominant(x):\n",
    "    diagonal = np.diag(np.abs(x))\n",
    "    sumWithDiagonal = np.sum(np.abs(x), axis = 1)\n",
    "    sumWithoutDiagonal = sumWithDiagonal - diagonal\n",
    "\n",
    "    for i in range(len(x)):\n",
    "        print(f\"X{i + 1} = {diagonal[i]}\")\n",
    "        printed = 0\n",
    "        for j, row in enumerate(x[i]):\n",
    "            if np.abs(row) != diagonal[i]:\n",
    "                print(f\"|{row}|\", end=\" \")\n",
    "                printed = printed + 1\n",
    "            if printed == 1:\n",
    "                print(\"+\", end=\" \")\n",
    "        print(f\"= {sumWithoutDiagonal[i]}\")\n",
    "        if(diagonal[i] > sumWithoutDiagonal):\n",
    "            print(f\"{diagonal[i]} > {sumWithoutDiagonal[i]}\")\n",
    "        else:\n",
    "            print(f\"{diagonal[i]} < {sumWithoutDiagonal[i]}\")\n",
    "\n",
    "\n",
    "    if np.all(diagonal > sumWithoutDiagonal):\n",
    "        return True\n",
    "    else:\n",
    "        return False\n"
   ]
  },
  {
   "cell_type": "code",
   "execution_count": null,
   "metadata": {},
   "outputs": [],
   "source": [
    "def seidel(x, y, tol, max):\n",
    "    x = np.array(x)\n",
    "    y = np.array(y)\n",
    "    diag = np.diag(np.abs(x))\n",
    "    x = -x\n",
    "    np.fill_diagonal(x, 0)\n",
    "    xb = np.zeros(x.shape[0])\n",
    "    flag = 0\n",
    "\n",
    "    for i in range (len(x)):\n",
    "        xn = np.array(xb)\n",
    "        if flag == 0:\n",
    "            for j, row in enumerate(x):\n",
    "                print(f\"X{j} = {y[j]}\")\n",
    "                for k, ele in enumerate(row):\n",
    "                    if j != k:\n",
    "                        print(f\" + ({ele} x {k})\", end=\" \")\n",
    "                print(f\"/ {diag[j]}\")\n",
    "                flag = 1\n",
    "        print(f\"Iteration: {i}\")\n",
    "        for j, row in enumerate(x):\n",
    "            xn = (y[j] + np.dot(row, xn)) / diag[j]\n",
    "            print(f\"X{j + 1} = \", end=\" \")\n",
    "            print(format({xn[j]}, \".9f\"), end=\"\")\n",
    "        print(\"\")\n",
    "        distance = np.sqrt(np.dot(xn - xb, xn - xb))\n",
    "        if distance < tol:\n",
    "            return True\n",
    "        xb = xn\n",
    "    return False\n"
   ]
  },
  {
   "cell_type": "code",
   "execution_count": null,
   "metadata": {},
   "outputs": [],
   "source": [
    "A = np.vstack([lx, np.ones(len(lx))]).T\n",
    "Y = np.vstack(ly)\n",
    "\n",
    "invers = np.linalg.inv(np.dot(A.T, A))\n",
    "beta = np.dot(np.dot(invers, A.T), Y)\n",
    "\n",
    "m = beta[0]\n",
    "c = beta[0]\n",
    "yb = m * lx + c\n",
    "\n",
    "plt.plot"
   ]
  },
  {
   "cell_type": "code",
   "execution_count": null,
   "metadata": {},
   "outputs": [],
   "source": [
    "x = symbols('x')\n",
    "f1 = lambda x:\n",
    "df1 = diff(f1(x), x)\n",
    "df1 = lambdify(x, df, 'numpy')\n",
    "\n",
    "# df2 juga sama kaya di atas\n",
    "\n",
    "def nr(f, df, x, tol, max):\n",
    "    if max == 6:\n",
    "        return false\n",
    "    if max > 0:\n",
    "        print(f\"iteration: {max}, root = {x}\")\n",
    "    if np.abs(f(x)) < tol:\n",
    "        print(x)\n",
    "        return True\n",
    "    return nr(f, df, x - (f(x) / df(x)), tol, max + 1)\n",
    "\n",
    "print(f, df, 1, tol, max)"
   ]
  },
  {
   "cell_type": "code",
   "execution_count": null,
   "metadata": {},
   "outputs": [],
   "source": [
    "f = lambda x: \n",
    "un = 0\n",
    "up = 4\n",
    "n = 30\n",
    "x = linspace(un, up, n)\n",
    "\n",
    "xl = x[:-1]\n",
    "xr = x[1:]\n",
    "xm = (up + un) / 2\n",
    "width = (up - un) / (n - 1)\n",
    "\n",
    "yl = f(xl)\n",
    "yr = f(xr)\n",
    "ym = f(xm)\n",
    "\n",
    "left = width * np.sum(np.abs(yl))\n",
    "# right dan mid sama\n",
    "trap = width * np.sum(np.abs(yl) + (np.abs(yr))) / 2"
   ]
  }
 ],
 "metadata": {
  "language_info": {
   "name": "python"
  },
  "orig_nbformat": 4
 },
 "nbformat": 4,
 "nbformat_minor": 2
}
