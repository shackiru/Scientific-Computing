{
 "cells": [
  {
   "cell_type": "code",
   "execution_count": 1,
   "metadata": {},
   "outputs": [],
   "source": [
    "import numpy as np\n",
    "import matplotlib.pyplot as plt\n",
    "from sympy import *"
   ]
  },
  {
   "cell_type": "code",
   "execution_count": 2,
   "metadata": {},
   "outputs": [
    {
     "ename": "SyntaxError",
     "evalue": "invalid syntax (3581029692.py, line 9)",
     "output_type": "error",
     "traceback": [
      "\u001b[1;36m  Cell \u001b[1;32mIn[2], line 9\u001b[1;36m\u001b[0m\n\u001b[1;33m    xl = [:-1]\u001b[0m\n\u001b[1;37m          ^\u001b[0m\n\u001b[1;31mSyntaxError\u001b[0m\u001b[1;31m:\u001b[0m invalid syntax\n"
     ]
    }
   ],
   "source": [
    "f = lambda x : x**3 + 2*x**2 - x - 2\n",
    "un = 1\n",
    "up = 4\n",
    "n = 23\n",
    "\n",
    "x = np.linspace(un, up, n)\n",
    "width = (up - un) / (n - 1)\n",
    "\n",
    "xl = x[:-1]\n",
    "xr = x[1:]\n",
    "xm = (xl + xr) / 2\n",
    "\n",
    "yl = f(xl)\n",
    "yr = f(xr)\n",
    "ym = f(xm)\n",
    "\n",
    "leftRie = width * np.sum(np.abs(yl))\n",
    "midRie = width * np.sum(np.abs(yr))\n",
    "rightRie = width * np.sum(np.abs(ym))\n",
    "trap = width * np.sum(np.abs(yl) + (np.abs(yr))) / 2\n",
    "\n",
    "print(\"Left Riemann: \", leftRie)\n",
    "print(\"Right Riemann: \", rightRie)\n",
    "print(\"Mid Riemann: \", midRie)\n",
    "print(\"Trapezoid\", trap)"
   ]
  }
 ],
 "metadata": {
  "kernelspec": {
   "display_name": "Python 3",
   "language": "python",
   "name": "python3"
  },
  "language_info": {
   "codemirror_mode": {
    "name": "ipython",
    "version": 3
   },
   "file_extension": ".py",
   "mimetype": "text/x-python",
   "name": "python",
   "nbconvert_exporter": "python",
   "pygments_lexer": "ipython3",
   "version": "3.11.0"
  },
  "orig_nbformat": 4
 },
 "nbformat": 4,
 "nbformat_minor": 2
}
