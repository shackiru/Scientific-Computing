{
 "cells": [
  {
   "cell_type": "code",
   "execution_count": 1,
   "metadata": {},
   "outputs": [],
   "source": [
    "import numpy as np\n",
    "import matplotlib.pyplot as plt\n",
    "from sympy import *"
   ]
  },
  {
   "cell_type": "code",
   "execution_count": 3,
   "metadata": {},
   "outputs": [
    {
     "name": "stdout",
     "output_type": "stream",
     "text": [
      "Left Riemann:  86.20196280991733\n",
      "Right Riemann:  92.20583677685948\n",
      "Mid Riemann:  98.4746900826446\n",
      "Trapezoid 92.33832644628099\n"
     ]
    }
   ],
   "source": [
    "f = lambda x : x**3 + 2*x**2 - x - 2\n",
    "un = 1\n",
    "up = 4\n",
    "n = 23\n",
    "\n",
    "x = np.linspace(un, up, n)\n",
    "width = (up - un) / (n - 1)\n",
    "\n",
    "xl = x[:-1]\n",
    "xr = x[1:]\n",
    "xm = (xl + xr) / 2\n",
    "\n",
    "yl = f(xl)\n",
    "yr = f(xr)\n",
    "ym = f(xm)\n",
    "\n",
    "leftRie = width * np.sum(np.abs(yl))\n",
    "midRie = width * np.sum(np.abs(yr))\n",
    "rightRie = width * np.sum(np.abs(ym))\n",
    "trap = width * np.sum(np.abs(yl) + (np.abs(yr))) / 2\n",
    "\n",
    "print(\"Left Riemann: \", leftRie)\n",
    "print(\"Right Riemann: \", rightRie)\n",
    "print(\"Mid Riemann: \", midRie)\n",
    "print(\"Trapezoid\", trap)"
   ]
  }
 ],
 "metadata": {
  "kernelspec": {
   "display_name": "Python 3",
   "language": "python",
   "name": "python3"
  },
  "language_info": {
   "codemirror_mode": {
    "name": "ipython",
    "version": 3
   },
   "file_extension": ".py",
   "mimetype": "text/x-python",
   "name": "python",
   "nbconvert_exporter": "python",
   "pygments_lexer": "ipython3",
   "version": "3.11.0"
  },
  "orig_nbformat": 4
 },
 "nbformat": 4,
 "nbformat_minor": 2
}
