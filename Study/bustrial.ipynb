{
 "cells": [
  {
   "cell_type": "code",
   "execution_count": null,
   "metadata": {},
   "outputs": [],
   "source": [
    "import numpy as np\n",
    "import matplotlib.pyplot as plt\n",
    "from sympy import *"
   ]
  },
  {
   "cell_type": "code",
   "execution_count": null,
   "metadata": {},
   "outputs": [],
   "source": [
    "def dominant(x):\n",
    "    x = np.array(x)\n",
    "    diagonal = np.diag(np.abs(x))\n",
    "    sumWithDiagonal = np.sum(np.abs(x))\n",
    "    sumWithoutDiagonal = sumWithDiagonal - diagonal\n",
    "\n",
    "    if np.all(diagonal > sumWithoutDiagonal):\n",
    "        return True\n",
    "    else:\n",
    "        return False"
   ]
  },
  {
   "cell_type": "code",
   "execution_count": null,
   "metadata": {},
   "outputs": [],
   "source": [
    "def seidel(x, y, tol, max):\n",
    "    x = np.array(x)\n",
    "    y = np.array(y)\n",
    "    diagonal = np.diag(x)\n",
    "    x = -x\n",
    "    np.fill_diagonal(x, 0)\n",
    "    xb = np.zeros(x.shape[0])"
   ]
  }
 ],
 "metadata": {
  "language_info": {
   "name": "python"
  },
  "orig_nbformat": 4
 },
 "nbformat": 4,
 "nbformat_minor": 2
}
