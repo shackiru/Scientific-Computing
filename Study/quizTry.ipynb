{
 "cells": [
  {
   "cell_type": "code",
   "execution_count": 1,
   "metadata": {},
   "outputs": [],
   "source": [
    "import numpy as np\n",
    "import matplotlib.pyplot as plt\n",
    "from sympy import *"
   ]
  },
  {
   "cell_type": "code",
   "execution_count": 2,
   "metadata": {},
   "outputs": [],
   "source": [
    "mX = [\n",
    "        [\n",
    "            [10, 2, -6],\n",
    "            [-1, 4, 2],\n",
    "            [2, 3, 6]\n",
    "        ],\n",
    "        [\n",
    "            [-5, 2, -8],\n",
    "            [4, -3, -9],\n",
    "            [-8, -10, 9]\n",
    "        ],\n",
    "        [\n",
    "            [10, -5, 3, 0],\n",
    "            [3, -9, 2, -2],\n",
    "            [-8, 0, 17, -4],\n",
    "            [3, -3, -8, -15]\n",
    "        ],\n",
    "]\n",
    "\n",
    "mY = [\n",
    "    [17, -4, -12],\n",
    "    [13, -7, -2],\n",
    "    [9, 10, -10, -18]\n",
    "]\n"
   ]
  },
  {
   "cell_type": "code",
   "execution_count": 9,
   "metadata": {},
   "outputs": [],
   "source": [
    "def dominant(x):\n",
    "    x = np.array(x)\n",
    "    diagonal = np.diag(np.abs(x))\n",
    "    sumWithDiagonal = np.sum(np.abs(x), axis = 1)\n",
    "    sumWithoutDiagonal = sumWithDiagonal - diagonal\n",
    "\n",
    "    for i in range(len(x)):\n",
    "        print(f\"Diagonal: {i + 1}: {diagonal[i]}\")\n",
    "        printed = 0\n",
    "        print(f\"Total of Not Diagonal Value: \", end=\" \")\n",
    "        for j, row in enumerate(x[i]):\n",
    "            if np.abs(row) != diagonal[i]:\n",
    "                print(f\"|{row}|\", end=\" \")\n",
    "                printed = printed + 1\n",
    "            if printed == 1:\n",
    "                print(\"+\", end=\" \")\n",
    "                printed = printed + 1\n",
    "        print(f\" = {sumWithoutDiagonal[i]}\")\n",
    "\n",
    "        if(diagonal[i] > sumWithoutDiagonal[i]):\n",
    "            print(f\"{diagonal[i]} > {sumWithoutDiagonal[i]}\")\n",
    "        else:\n",
    "            print(f\"{diagonal[i]} < {sumWithoutDiagonal[i]}\")\n",
    "\n",
    "    if np.all(diagonal > sumWithoutDiagonal):\n",
    "        return True\n",
    "    else:\n",
    "        return False"
   ]
  },
  {
   "cell_type": "code",
   "execution_count": 15,
   "metadata": {},
   "outputs": [],
   "source": [
    "def seidel(x, y, tol, max):\n",
    "    x = np.array(x)\n",
    "    y = np.array(y)\n",
    "    flag = 0\n",
    "\n",
    "    diagonal = np.diag(x)\n",
    "    x = -x\n",
    "    np.fill_diagonal(x, 0)\n",
    "\n",
    "    xBef = np.zeros(x.shape[0])\n",
    "    for i in range(1, max + 1):\n",
    "        xNew = np.array(xBef)\n",
    "        if flag == 0:\n",
    "            for j, row in enumerate(x):\n",
    "                print(f\"X{j} = {y[j]}\", end=\" \")\n",
    "                for k, ele in enumerate(row):\n",
    "                    if j != k:\n",
    "                        print(f\" + ({ele} x {k})\", end=\" \")\n",
    "                print(f\"/ {diagonal[j]}\")\n",
    "                flag = 1\n",
    "        print(f\"Iteration: {i}|\")\n",
    "        for j, row in enumerate(x):\n",
    "            xNew[j] = (y[j] + np.dot(row, xNew)) / diagonal[j]\n",
    "            print(f\"X{j + 1} = \", end=\" \")\n",
    "            print(format(xNew[j], \".9f\"), end=\" \")\n",
    "        print(\"\")\n",
    "        distance = np.sqrt(np.dot(xNew - xBef, xNew - xBef))\n",
    "        if distance < tol:\n",
    "            return True\n",
    "        xBef = xNew\n",
    "    return False"
   ]
  },
  {
   "cell_type": "code",
   "execution_count": 16,
   "metadata": {},
   "outputs": [
    {
     "name": "stdout",
     "output_type": "stream",
     "text": [
      "Diagonal: 1: 10\n",
      "Total of Not Diagonal Value:  |2| + |-6|  = 8\n",
      "10 > 8\n",
      "Diagonal: 2: 4\n",
      "Total of Not Diagonal Value:  |-1| + |2|  = 3\n",
      "4 > 3\n",
      "Diagonal: 3: 6\n",
      "Total of Not Diagonal Value:  |2| + |3|  = 5\n",
      "6 > 5\n",
      "X0 = 17  + (-2 x 1)  + (6 x 2) / 10\n",
      "X1 = -4  + (1 x 0)  + (-2 x 2) / 4\n",
      "X2 = -12  + (-2 x 0)  + (-3 x 1) / 6\n",
      "Iteration: 1|\n",
      "X1 =  1.700000000 X2 =  -0.575000000 X3 =  -2.279166667 \n",
      "Iteration: 2|\n",
      "X1 =  0.447500000 X2 =  0.251458333 X3 =  -2.274895833 \n",
      "Iteration: 3|\n",
      "X1 =  0.284770833 X2 =  0.208640625 X3 =  -2.199243924 \n",
      "Iteration: 4|\n",
      "X1 =  0.338725521 X2 =  0.184303342 X3 =  -2.205060178 \n",
      "Iteration: 5|\n",
      "X1 =  0.340103225 X2 =  0.187555895 X3 =  -2.207145689 \n",
      "True\n",
      "Diagonal: 1: 5\n",
      "Total of Not Diagonal Value:  |2| + |-8|  = 10\n",
      "5 < 10\n",
      "Diagonal: 2: 3\n",
      "Total of Not Diagonal Value:  |4| + |-9|  = 13\n",
      "3 < 13\n",
      "Diagonal: 3: 9\n",
      "Total of Not Diagonal Value:  |-8| + |-10|  = 18\n",
      "9 < 18\n",
      "Not Diagonally Dominant\n",
      "Diagonal: 1: 10\n",
      "Total of Not Diagonal Value:  |-5| + |3| |0|  = 8\n",
      "10 > 8\n",
      "Diagonal: 2: 9\n",
      "Total of Not Diagonal Value:  |3| + |2| |-2|  = 7\n",
      "9 > 7\n",
      "Diagonal: 3: 17\n",
      "Total of Not Diagonal Value:  |-8| + |0| |-4|  = 12\n",
      "17 > 12\n",
      "Diagonal: 4: 15\n",
      "Total of Not Diagonal Value:  |3| + |-3| |-8|  = 14\n",
      "15 > 14\n",
      "X0 = 9  + (5 x 1)  + (-3 x 2)  + (0 x 3) / 10\n",
      "X1 = 10  + (-3 x 0)  + (-2 x 2)  + (2 x 3) / -9\n",
      "X2 = -10  + (8 x 0)  + (0 x 1)  + (4 x 3) / 17\n",
      "X3 = -18  + (-3 x 0)  + (3 x 1)  + (8 x 2) / -15\n",
      "Iteration: 1|\n",
      "X1 =  0.900000000 X2 =  -0.811111111 X3 =  -0.164705882 X4 =  1.630065359 \n",
      "Iteration: 2|\n",
      "X1 =  0.543856209 X2 =  -1.328663762 X3 =  0.051241830 X4 =  1.547175018 \n",
      "Iteration: 3|\n",
      "X1 =  0.220295570 X2 =  -1.370108852 X3 =  -0.120525610 X4 =  1.582361210 \n",
      "Iteration: 4|\n",
      "X1 =  0.251103257 X2 =  -1.405829319 X3 =  -0.097748771 X4 =  1.583519193 \n",
      "Iteration: 5|\n",
      "X1 =  0.226409972 X2 =  -1.409256224 X3 =  -0.109096674 X4 =  1.585318132 \n",
      "False\n"
     ]
    }
   ],
   "source": [
    "for i, (x,y) in enumerate(zip(mX,mY)):\n",
    "    if (dominant(x)):\n",
    "        # print(\"Diagonally Dominant\")\n",
    "        print(seidel(x, y, 0.01456, 5))\n",
    "    else:\n",
    "        print(\"Not Diagonally Dominant\")"
   ]
  },
  {
   "cell_type": "code",
   "execution_count": 6,
   "metadata": {},
   "outputs": [],
   "source": [
    "lx = [1, 5, 7, 2, 3, 9, 10, 4, 6, 8]\n",
    "ly = [34, 51, 80, 25, 90, 76, 100, 11, 45, 62]"
   ]
  },
  {
   "cell_type": "code",
   "execution_count": 7,
   "metadata": {},
   "outputs": [
    {
     "data": {
      "image/png": "[encoded data removed]",
      "text/plain": [
       "<Figure size 640x480 with 1 Axes>"
      ]
     },
     "metadata": {},
     "output_type": "display_data"
    }
   ],
   "source": [
    "A = np.vstack([lx, np.ones(len(lx))]).T\n",
    "Y = np.vstack(ly)\n",
    "\n",
    "invers = np.linalg.inv(np.dot(A.T, A))\n",
    "beta = np.dot(np.dot(invers, A.T), Y)\n",
    "\n",
    "m = beta[0]\n",
    "c = beta[1]\n",
    "\n",
    "yb = m * lx + c\n",
    "plt.plot(lx, ly, \"go\", label = \"(x,y) Points\")\n",
    "plt.plot(lx, yb, \"r-\", label = \"Least Fit Regression\")\n",
    "plt.legend(loc = \"upper left\")\n",
    "plt.xlabel(\"X\")\n",
    "plt.ylabel(\"Y\")\n",
    "plt.title(\"Least Square Regression\")\n",
    "plt.show()\n"
   ]
  },
  {
   "cell_type": "code",
   "execution_count": 18,
   "metadata": {},
   "outputs": [
    {
     "name": "stdout",
     "output_type": "stream",
     "text": [
      "29\n"
     ]
    },
    {
     "ename": "TypeError",
     "evalue": "'>' not supported between instances of 'function' and 'int'",
     "output_type": "error",
     "traceback": [
      "\u001b[1;31m---------------------------------------------------------------------------\u001b[0m",
      "\u001b[1;31mTypeError\u001b[0m                                 Traceback (most recent call last)",
      "Cell \u001b[1;32mIn[18], line 22\u001b[0m\n\u001b[0;32m     20\u001b[0m         \u001b[39mreturn\u001b[39;00m \u001b[39mTrue\u001b[39;00m\n\u001b[0;32m     21\u001b[0m     \u001b[39mreturn\u001b[39;00m NR(f,df, x \u001b[39m-\u001b[39m (f(x) \u001b[39m/\u001b[39m df(x)), tol, \u001b[39mmax\u001b[39m \u001b[39m+\u001b[39m \u001b[39m1\u001b[39m)\n\u001b[1;32m---> 22\u001b[0m \u001b[39mprint\u001b[39m (NR(f1, df1, \u001b[39m1\u001b[39;49m, \u001b[39m0.006451\u001b[39;49m, \u001b[39m0\u001b[39;49m))\n\u001b[0;32m     23\u001b[0m \u001b[39mprint\u001b[39m (NR(f2, df2, \u001b[39m1\u001b[39m, \u001b[39m0.006451\u001b[39m, \u001b[39m0\u001b[39m))\n",
      "Cell \u001b[1;32mIn[18], line 16\u001b[0m, in \u001b[0;36mNR\u001b[1;34m(f, df, x, tol, max)\u001b[0m\n\u001b[0;32m     14\u001b[0m \u001b[39mif\u001b[39;00m  \u001b[39mmax\u001b[39m \u001b[39m==\u001b[39m \u001b[39m6\u001b[39m:\n\u001b[0;32m     15\u001b[0m     \u001b[39mreturn\u001b[39;00m \u001b[39mFalse\u001b[39;00m\n\u001b[1;32m---> 16\u001b[0m \u001b[39mif\u001b[39;00m limit \u001b[39m>\u001b[39;49m \u001b[39m0\u001b[39;49m:\n\u001b[0;32m     17\u001b[0m     \u001b[39mprint\u001b[39m(\u001b[39mf\u001b[39m\u001b[39m\"\u001b[39m\u001b[39mIteration: \u001b[39m\u001b[39m{\u001b[39;00m\u001b[39mmax\u001b[39m\u001b[39m}\u001b[39;00m\u001b[39m, root: \u001b[39m\u001b[39m{\u001b[39;00mx\u001b[39m}\u001b[39;00m\u001b[39m\"\u001b[39m)\n\u001b[0;32m     18\u001b[0m \u001b[39mif\u001b[39;00m np\u001b[39m.\u001b[39mabs(f(x)) \u001b[39m<\u001b[39m tol:\n",
      "\u001b[1;31mTypeError\u001b[0m: '>' not supported between instances of 'function' and 'int'"
     ]
    }
   ],
   "source": [
    "x = symbols('x')\n",
    "\n",
    "f1 = lambda x: 7*x**4 - 3**2 +x\n",
    "df1 = diff(f1(x), x)\n",
    "df1 = lambdify(x, df1, 'numpy')\n",
    "\n",
    "print(df1(1))\n",
    "\n",
    "f2 = lambda x: 8*x**6 + 5*x**4 - 2\n",
    "df2 = diff(f2(x), x)\n",
    "df2 = lambdify(x, df2, 'numpy')\n",
    "\n",
    "def NR(f, df, x, tol, max):\n",
    "    if  max == 6:\n",
    "        return False\n",
    "    if max > 0:\n",
    "        print(f\"Iteration: {max}, root: {x}\")\n",
    "    if np.abs(f(x)) < tol:\n",
    "        print(x)\n",
    "        return True\n",
    "    return NR(f,df, x - (f(x) / df(x)), tol, max + 1)\n",
    "print (NR(f1, df1, 1, 0.006451, 0))\n",
    "print (NR(f2, df2, 1, 0.006451, 0))"
   ]
  },
  {
   "cell_type": "code",
   "execution_count": null,
   "metadata": {},
   "outputs": [
    {
     "name": "stdout",
     "output_type": "stream",
     "text": [
      "Left Riemann:  645.1387652149571\n",
      "Right Riemann:  530.2422134908192\n",
      "Mid Riemann:  580.4556464297783\n",
      "Trapezoid:  587.690489352888\n"
     ]
    }
   ],
   "source": [
    "f = lambda x: 3*x**4 - 7*x**2 + 5\n",
    "un = -4\n",
    "up = 3\n",
    "n = 30\n",
    "\n",
    "x = np.linspace(un, up, n)\n",
    "width = (up - un) / (n - 1)\n",
    "\n",
    "xL = x[:-1]\n",
    "xR = x[1:]\n",
    "xM = (xL + xR) / 2\n",
    "\n",
    "yL = f(xL)\n",
    "yR = f(xR)\n",
    "yM = f(xM)\n",
    "\n",
    "left = width * np.sum(np.abs(yL))\n",
    "right = width * np.sum(np.abs(yR))\n",
    "mid = width * np.sum(np.abs(yM))\n",
    "trap = width * np.sum(np.abs(yL) + (np.abs(yR))) / 2\n",
    "\n",
    "print(\"Left Riemann: \", left)\n",
    "print(\"Right Riemann: \", right)\n",
    "print(\"Mid Riemann: \", mid)\n",
    "print(\"Trapezoid: \", trap)"
   ]
  }
 ],
 "metadata": {
  "kernelspec": {
   "display_name": "Python 3",
   "language": "python",
   "name": "python3"
  },
  "language_info": {
   "codemirror_mode": {
    "name": "ipython",
    "version": 3
   },
   "file_extension": ".py",
   "mimetype": "text/x-python",
   "name": "python",
   "nbconvert_exporter": "python",
   "pygments_lexer": "ipython3",
   "version": "3.11.0"
  },
  "orig_nbformat": 4
 },
 "nbformat": 4,
 "nbformat_minor": 2
}
