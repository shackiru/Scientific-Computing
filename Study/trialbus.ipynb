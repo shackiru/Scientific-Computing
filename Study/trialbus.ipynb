{
 "cells": [
  {
   "cell_type": "code",
   "execution_count": null,
   "metadata": {},
   "outputs": [],
   "source": [
    "import numpy as np\n",
    "import matplotlib.pyplot as plt\n",
    "from sympy import *"
   ]
  },
  {
   "cell_type": "code",
   "execution_count": null,
   "metadata": {},
   "outputs": [],
   "source": [
    "def dominant(x):\n",
    "    x = np.array(x)\n",
    "    diagonal = np.diag(np.abs(x))\n",
    "    sumWithDiagonal = np.sum(np.abs(np.x), axis = 1)\n",
    "    sumWihtoutDiagonal = sumWithDiagonal - diagonal\n",
    "\n",
    "    if np.all(diagonal > sumWihtoutDiagonal)\n",
    "        return True\n",
    "    else:\n",
    "        return False"
   ]
  },
  {
   "cell_type": "code",
   "execution_count": null,
   "metadata": {},
   "outputs": [],
   "source": [
    "def seidel(x, y, tol, max):\n",
    "    x = np.array(x)\n",
    "    y = np.array(y)\n",
    "    diagonal = np.diag(x)\n",
    "    np.fill_diagonal(x, 0)\n",
    "    xb = np.zeros(x.shape[0])\n",
    "    flag = 0\n",
    "\n",
    "    for i in range(len(x)):\n",
    "        xn = np.array(xb)\n",
    "        if flag == 0:\n",
    "            for j, row in enumerate(x):\n",
    "                print(f\"X{j} = {y[j]}\", end=\" \")\n",
    "                for k, ele in enumerate(row):\n",
    "                    if j != k:\n",
    "                        print(f\"+ ({ele} x {k})\", end=\"\")\n",
    "                print(f\"\\ {diagonal[j]}\")\n",
    "                flag = 1\n",
    "        print(f\"Iteration: {i}|\")\n",
    "        for j, row in enumerate(x):\n",
    "            xn[j] = (y[j] + np.dot(row, xn)) / diagonal[j]\n",
    "            print(f\"X{j + 1} = \", end=\" \")\n",
    "            print(format(xn[j], \".9f\"), end=\" \")\n",
    "        print(\"\")\n",
    "        distance = np.sqrt(np.dot(xn - xb, xn - xb))\n",
    "        if distance < tol:\n",
    "            return True\n",
    "        xb = xn\n",
    "    return False"
   ]
  },
  {
   "cell_type": "code",
   "execution_count": null,
   "metadata": {},
   "outputs": [],
   "source": [
    "for i, (x,y) in enumerate(zip(mX, mX)):\n",
    "    print(seidel(x,y,tol,maxs))"
   ]
  },
  {
   "cell_type": "code",
   "execution_count": null,
   "metadata": {},
   "outputs": [],
   "source": [
    "A = np.vstack([lx, np.ones(len(lx))]).T\n",
    "Y = np.vstack(ly)\n",
    "\n",
    "invers = np.linalg.inv(np.dot(A.T, A))\n",
    "beta = np.dot(np.dot(invers, A.T), Y)\n",
    "\n",
    "m = beta[0]\n",
    "c = beta[1]\n",
    "\n",
    "yb = m * lx + c\n",
    "plt.plot(lx, ly, \"go\", label=\"x,y points\")\n",
    "plt.plot(lx, yb, \"r-\", label=\"least fit regression\")\n",
    "plt.legend(loc=\"upper left\")\n",
    "plt.xlabel(\"X\")\n",
    "plt.ylabel(\"Y\")\n",
    "plt.title(\"LFT\")\n",
    "plt.show()"
   ]
  },
  {
   "cell_type": "code",
   "execution_count": null,
   "metadata": {},
   "outputs": [],
   "source": [
    "x = symbols('x')\n",
    "f1 = lambda x: 8*x**5 - 4*x**3 + 3*x**2 - 5\n",
    "df1 = diff(f1(x), x)\n",
    "df1 = lambdify(x, df1, 'numpy')\n",
    "\n",
    "f2 = lambda x: 5*x**6 + 6*x**2 - 3*x**5 + 3\n",
    "df2 = diff(f2(x), x)\n",
    "df2 = lambdify(x, df2, 'numpy')\n",
    "\n",
    "def nr(f, df, x, tol, max):\n",
    "    if max == 6:\n",
    "        return False\n",
    "    if max > 0:\n",
    "        print(f\"Iteration {max}, root = {x}\")\n",
    "    if np.abs(f(x)) < tol:\n",
    "        print(x)\n",
    "        return False\n",
    "    return nr(f, df, x - (f(x) / df(x)), tol, max + 1)\n",
    "print(nr(f1, df1, 1, 0.01456, 0))\n",
    "print(nr(f2, df2, 1, 0.01456, 0))"
   ]
  },
  {
   "cell_type": "code",
   "execution_count": null,
   "metadata": {},
   "outputs": [],
   "source": [
    "f = lambda x: 8*x**5 - 6*x**3 + 3*x**2 - x**2\n",
    "un = 0\n",
    "up = 5\n",
    "n = 30\n",
    "\n",
    "x = np.linspace(un, up, n)\n",
    "\n",
    "xl = x[:-1]\n",
    "xr = x[1:]\n",
    "xm = (un + up) / 2\n",
    "\n",
    "width = (up - un) / (n - 1)\n",
    "yl = f(xl)\n",
    "yr = f(xr)\n",
    "ym = f(xm)\n",
    "\n",
    "left = width * np.sum(np.abs(yl))\n",
    "right = width * np.sum(np.abs(yr))\n",
    "mid = width * np.sum(np.abs(ym))\n",
    "trap = width * np.sum(np.abs(yl) + (np.abs(yr))) / 2  "
   ]
  }
 ],
 "metadata": {
  "language_info": {
   "name": "python"
  },
  "orig_nbformat": 4
 },
 "nbformat": 4,
 "nbformat_minor": 2
}
