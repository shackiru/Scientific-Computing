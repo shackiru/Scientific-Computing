{
 "cells": [
  {
   "cell_type": "code",
   "execution_count": 1,
   "metadata": {},
   "outputs": [],
   "source": [
    "import numpy as np\n",
    "import matplotlib.pyplot as plt\n",
    "from sympy import *"
   ]
  },
  {
   "cell_type": "code",
   "execution_count": 7,
   "metadata": {},
   "outputs": [],
   "source": [
    "mX = [\n",
    "        [\n",
    "            [-6, 2, -3],\n",
    "            [4, -6, -2],\n",
    "            [-8, -10, 9]\n",
    "        ],\n",
    "        [\n",
    "            [9, 2, -6],\n",
    "            [-1, 5, 2],\n",
    "            [2, 5, 8]\n",
    "        ],\n",
    "        [\n",
    "            [10, -3, 2, 0],\n",
    "            [3, -9, 2, -3],\n",
    "            [-8, 0, 17, -4],\n",
    "            [3, -3, -8, -15]\n",
    "        ],\n",
    "]\n",
    "\n",
    "mY = [\n",
    "    [13, -7, -2],\n",
    "    [12, -7, -10],\n",
    "    [19, 10, -10, -18]\n",
    "]\n"
   ]
  },
  {
   "cell_type": "code",
   "execution_count": 9,
   "metadata": {},
   "outputs": [],
   "source": [
    "def dominant(x):\n",
    "    x = np.array(x)\n",
    "    diagonal = np.diag(np.abs(x))\n",
    "    sumWithDiagonal = np.sum(np.abs(x), axis = 1)\n",
    "    sumWithoutDiagonal = sumWithDiagonal - diagonal\n",
    "\n",
    "    if np.all(diagonal > sumWithoutDiagonal):\n",
    "        return True\n",
    "    else:\n",
    "        return False"
   ]
  },
  {
   "cell_type": "code",
   "execution_count": 4,
   "metadata": {},
   "outputs": [],
   "source": [
    "def seidel(x, y, tol, max):\n",
    "    x = np.array(x)\n",
    "    y = np.array(y)\n",
    "\n",
    "    diagonal = np.diag(np.abs(x))\n",
    "    x = -x\n",
    "    np.fill_diagonal(x, 0)\n",
    "    xBef = np.zeros(x.shape[0])\n",
    "    for i in range(max):\n",
    "        xNew = np.array(xBef)\n",
    "        for j, row in enumerate(x):\n",
    "            xNew[j] = (y[j] + np.dot(row, xNew)) / diagonal[j]\n",
    "        distance = np.sqrt(np.dot(xNew - xBef, xNew - xBef))\n",
    "        if distance < tol:\n",
    "            return true\n",
    "        xNew = xBef\n",
    "    return False"
   ]
  },
  {
   "cell_type": "code",
   "execution_count": 10,
   "metadata": {},
   "outputs": [
    {
     "name": "stdout",
     "output_type": "stream",
     "text": [
      "not diagonally dominant\n",
      "diagonally dominant\n",
      "False\n",
      "diagonally dominant\n",
      "False\n"
     ]
    }
   ],
   "source": [
    "for i, (x,y) in enumerate(zip(mX, mY)):\n",
    "    if(dominant(x)):\n",
    "        print(\"diagonally dominant\")\n",
    "        print(seidel(x, y, 0.01456, 5))\n",
    "    else:\n",
    "        print(\"not diagonally dominant\")"
   ]
  },
  {
   "cell_type": "code",
   "execution_count": null,
   "metadata": {},
   "outputs": [],
   "source": []
  }
 ],
 "metadata": {
  "kernelspec": {
   "display_name": "Python 3",
   "language": "python",
   "name": "python3"
  },
  "language_info": {
   "codemirror_mode": {
    "name": "ipython",
    "version": 3
   },
   "file_extension": ".py",
   "mimetype": "text/x-python",
   "name": "python",
   "nbconvert_exporter": "python",
   "pygments_lexer": "ipython3",
   "version": "3.11.0"
  },
  "orig_nbformat": 4
 },
 "nbformat": 4,
 "nbformat_minor": 2
}
