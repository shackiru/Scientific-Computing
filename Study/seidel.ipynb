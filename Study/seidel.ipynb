{
 "cells": [
  {
   "cell_type": "code",
   "execution_count": 1,
   "metadata": {},
   "outputs": [],
   "source": [
    "import numpy as np\n",
    "import matplotlib.pyplot as plt\n",
    "from sympy import *"
   ]
  },
  {
   "cell_type": "code",
   "execution_count": 7,
   "metadata": {},
   "outputs": [],
   "source": [
    "mX = [\n",
    "        [\n",
    "            [-6, 2, -3],\n",
    "            [4, -6, -2],\n",
    "            [-8, -10, 9]\n",
    "        ],\n",
    "        [\n",
    "            [9, 2, -6],\n",
    "            [-1, 5, 2],\n",
    "            [2, 5, 8]\n",
    "        ],\n",
    "        [\n",
    "            [10, -3, 2, 0],\n",
    "            [3, -9, 2, -3],\n",
    "            [-8, 0, 17, -4],\n",
    "            [3, -3, -8, -15]\n",
    "        ],\n",
    "]\n",
    "\n",
    "mY = [\n",
    "    [13, -7, -2],\n",
    "    [12, -7, -10],\n",
    "    [19, 10, -10, -18]\n",
    "]\n"
   ]
  },
  {
   "cell_type": "code",
   "execution_count": 9,
   "metadata": {},
   "outputs": [],
   "source": [
    "def dominant(x):\n",
    "    x = np.array(x)\n",
    "    diagonal = np.diag(np.abs(x))\n",
    "    sumWithDiagonal = np.sum(np.abs(x), axis = 1)\n",
    "    sumWithoutDiagonal = sumWithDiagonal - diagonal\n",
    "\n",
    "    if np.all(diagonal > sumWithoutDiagonal):\n",
    "        return True\n",
    "    else:\n",
    "        return False"
   ]
  },
  {
   "cell_type": "code",
   "execution_count": 4,
   "metadata": {},
   "outputs": [],
   "source": [
    "def seidel(x, y, tol, max):\n",
    "    x = np.array(x)\n",
    "    y = np.array(y)\n",
    "\n",
    "    diagonal = np.diag(np.abs(x))\n",
    "    x = -x\n",
    "    np.fill_diagonal(x, 0)\n",
    "    xBef = np.zeros(x.shape[0])\n",
    "    for i in range(max):\n",
    "        xNew = np.array(xBef)\n",
    "        for j, row in enumerate(x):\n",
    "            xNew[j] = (y[j] + np.dot(row, xNew)) / diagonal[j]\n",
    "        distance = np.sqrt(np.dot(xNew - xBef, xNew - xBef))\n",
    "        if distance < tol:\n",
    "            return true\n",
    "        xNew = xBef\n",
    "    return False"
   ]
  },
  {
   "cell_type": "code",
   "execution_count": 10,
   "metadata": {},
   "outputs": [
    {
     "name": "stdout",
     "output_type": "stream",
     "text": [
      "not diagonally dominant\n",
      "diagonally dominant\n",
      "False\n",
      "diagonally dominant\n",
      "False\n"
     ]
    }
   ],
   "source": [
    "for i, (x,y) in enumerate(zip(mX, mY)):\n",
    "    if(dominant(x)):\n",
    "        print(\"diagonally dominant\")\n",
    "        print(seidel(x, y, 0.01456, 5))\n",
    "    else:\n",
    "        print(\"not diagonally dominant\")"
   ]
  },
  {
   "cell_type": "code",
   "execution_count": 15,
   "metadata": {},
   "outputs": [],
   "source": [
    "lx = [1, 5, 7, 2, 3, 9, 10, 4, 6, 8, 12, 11]\n",
    "ly = [34, 51, 80, 25, 90, 76, 100, 11, 45, 62, 73, 89]\n"
   ]
  },
  {
   "cell_type": "code",
   "execution_count": 19,
   "metadata": {},
   "outputs": [
    {
     "data": {
      "image/png": "[encoded data removed]",
      "text/plain": [
       "<Figure size 640x480 with 1 Axes>"
      ]
     },
     "metadata": {},
     "output_type": "display_data"
    }
   ],
   "source": [
    "A = np.vstack([lx, np.ones(len(lx))]).T\n",
    "Y = np.vstack(ly)\n",
    "\n",
    "\n",
    "invers = np.linalg.inv(np.dot(A.T, A))\n",
    "beta = np.dot(np.dot(invers, A.T), Y)\n",
    "\n",
    "m = beta[0]\n",
    "c = beta[1]\n",
    "\n",
    "yb = m * lx + c\n",
    "plt.plot(lx, ly, \"go\", label = \"(x,y) Points\")\n",
    "plt.plot(lx, yb, \"r--\", label = \"Least Fit Regression\")\n",
    "plt.show()\n"
   ]
  },
  {
   "cell_type": "code",
   "execution_count": 22,
   "metadata": {},
   "outputs": [
    {
     "name": "stdout",
     "output_type": "stream",
     "text": [
      "Iteration: 1, root: -0.2857142857142858\n",
      "Iteration: 2, root: 0.39960950211519786\n",
      "Iteration: 3, root: 0.09037873067676633\n",
      "Iteration: 4, root: 0.0090431111476212\n",
      "Iteration: 5, root: 0.00011165010334652017\n",
      "False\n",
      "Iteration: 1, root: 0.9166666666666666\n",
      "Iteration: 2, root: 0.8801390964500637\n",
      "Iteration: 3, root: 0.8745285102322558\n",
      "Iteration: 4, root: 0.8744148227102518\n",
      "0.8744148227102518\n",
      "Converged\n",
      "True\n"
     ]
    }
   ],
   "source": [
    "x = symbols('x')\n",
    "\n",
    "f1 = lambda x: 3*x**4 - 7*x**2 - 5 * x\n",
    "df1 = diff(f1(x), x)\n",
    "df1 = lambdify(x, df1, 'numpy')\n",
    "\n",
    "f2 = lambda x: 10*x**9 + 6*x**3 - 7\n",
    "df2 = diff(f2(x), x)\n",
    "df2 = lambdify(x, df2, 'numpy')\n",
    "\n",
    "def NR(f, df, x, tol, max):\n",
    "    if max == 6:\n",
    "        return False\n",
    "    if max > 0:\n",
    "        print(f\"Iteration: {max}, root: {x}\")\n",
    "    if np.abs(f(x)) < tol:\n",
    "        print(x)\n",
    "        print(\"Converged\")\n",
    "        return True\n",
    "    return NR(f, df, x  - (f(x) / df(x)), tol, max + 1)\n",
    "print(NR(f1, df1, 1, 0.00006541, 0))\n",
    "print(NR(f2, df2, 1, 0.00006541, 0))"
   ]
  },
  {
   "cell_type": "code",
   "execution_count": 23,
   "metadata": {},
   "outputs": [
    {
     "name": "stdout",
     "output_type": "stream",
     "text": [
      "left riemann:  817.8306660570034\n",
      "right riemann:  447.6084438347813\n",
      "mid riemann:  558.0362844840726\n",
      "trapezoid:  632.7195549458924\n"
     ]
    }
   ],
   "source": [
    "f = lambda x: 3*x**4 - 7*x**2 + 5\n",
    "un = -4\n",
    "up = 3\n",
    "n = 10\n",
    "\n",
    "x = np.linspace(un, up, n)\n",
    "width = (up - un) / (n - 1)\n",
    "\n",
    "xL = x[:-1]\n",
    "xR = x[1:]\n",
    "xM = (xL + xR) / 2\n",
    "\n",
    "yL = f(xL)\n",
    "yR = f(xR)\n",
    "yM = f(xM)\n",
    "\n",
    "left = width * np.sum(np.abs(yL))\n",
    "right = width * np.sum(np.abs(yR))\n",
    "mid = width * np.sum(np.abs(yM))\n",
    "\n",
    "trap = width * np.sum(np.abs(yL) + (np.abs(yR))) / 2\n",
    "\n",
    "print(\"left riemann: \", left)\n",
    "print(\"right riemann: \", right)\n",
    "print(\"mid riemann: \", mid)\n",
    "print(\"trapezoid: \", trap)"
   ]
  }
 ],
 "metadata": {
  "kernelspec": {
   "display_name": "Python 3",
   "language": "python",
   "name": "python3"
  },
  "language_info": {
   "codemirror_mode": {
    "name": "ipython",
    "version": 3
   },
   "file_extension": ".py",
   "mimetype": "text/x-python",
   "name": "python",
   "nbconvert_exporter": "python",
   "pygments_lexer": "ipython3",
   "version": "3.11.0"
  },
  "orig_nbformat": 4,
  "vscode": {
   "interpreter": {
    "hash": "74cb0badc4ea317941f46c90ef19b36dd6ee6973a2d2098bec5521b019edcf41"
   }
  }
 },
 "nbformat": 4,
 "nbformat_minor": 2
}
