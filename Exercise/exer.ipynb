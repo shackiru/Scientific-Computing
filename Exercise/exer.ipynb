{
 "cells": [
  {
   "cell_type": "code",
   "execution_count": 1,
   "metadata": {},
   "outputs": [],
   "source": [
    "import numpy as np\n",
    "import matplotlib.pyplot as plt\n",
    "from sympy import *\n"
   ]
  },
  {
   "cell_type": "code",
   "execution_count": 2,
   "metadata": {},
   "outputs": [],
   "source": [
    "mX = [\n",
    "        [\n",
    "            [2, -1, 1],\n",
    "            [1, 3, 1],\n",
    "            [2, 1, -4]\n",
    "        ],\n",
    "        [\n",
    "            [9, -1, 3],\n",
    "            [1, 2, 4],\n",
    "            [-8, -10, 9]\n",
    "        ],\n",
    "        [\n",
    "            [5, 2, -1, 1],\n",
    "            [0, 3, 2, 1],\n",
    "            [0, 2, 6, 0],\n",
    "            [1, 2, 1, -4]\n",
    "        ],\n",
    "]\n",
    "\n",
    "mY = [\n",
    "    [10, 20, -15],\n",
    "    [10, 40, 65],\n",
    "    [10, -20, 40, 70]\n",
    "]"
   ]
  },
  {
   "cell_type": "code",
   "execution_count": null,
   "metadata": {},
   "outputs": [],
   "source": []
  }
 ],
 "metadata": {
  "kernelspec": {
   "display_name": "Python 3",
   "language": "python",
   "name": "python3"
  },
  "language_info": {
   "codemirror_mode": {
    "name": "ipython",
    "version": 3
   },
   "file_extension": ".py",
   "mimetype": "text/x-python",
   "name": "python",
   "nbconvert_exporter": "python",
   "pygments_lexer": "ipython3",
   "version": "3.11.0"
  },
  "orig_nbformat": 4
 },
 "nbformat": 4,
 "nbformat_minor": 2
}
