{
 "cells": [
  {
   "cell_type": "code",
   "execution_count": 8,
   "metadata": {},
   "outputs": [],
   "source": [
    "from matplotlib import pyplot as plt\n",
    "import numpy as np\n",
    "import bisect\n",
    "\n",
    "def bisection(f, a, b, tolerance):\n",
    "    #apakah tanda f(a) sama atau tidak dengan tanda dari f(b)\n",
    "    #np -> sign() -1 (negatif), 0, 1(positif)\n",
    "    if np.sign(f(a)) == np.sign(f(b)):\n",
    "        print('No Answer!')\n",
    "        return\n",
    "    \n",
    "    mid = (a+b) / 2\n",
    "    if np.abs(f(mid)) < tolerance:\n",
    "        return mid\n",
    "    elif np.sign(f(mid)) == np.sign(f(a)):\n",
    "        return bisection(f, mid, b, tolerance)\n",
    "    elif np.sign(f(mid)) == np.sign(f(b)):\n",
    "        return bisection(f, a, mid, tolerance)\n",
    "    \n"
   ]
  },
  {
   "cell_type": "code",
   "execution_count": 6,
   "metadata": {},
   "outputs": [
    {
     "name": "stdout",
     "output_type": "stream",
     "text": [
      "1.734375\n"
     ]
    }
   ],
   "source": [
    "f = lambda x : x**2-3\n",
    "a = -1\n",
    "b = 3\n",
    "tolerance = 0.01\n",
    "print(bisection(f, a, b, tolerance))"
   ]
  },
  {
   "cell_type": "code",
   "execution_count": 18,
   "metadata": {},
   "outputs": [],
   "source": [
    "def newton_raphson(f, df, x0, tolerance, max):\n",
    "    if max <= 0:\n",
    "        print('Answer Not Found')\n",
    "        return\n",
    "    \n",
    "    if np.abs(f(x0)) < tolerance:\n",
    "        return x0\n",
    "    else:\n",
    "        print(x0 - (f(x0) / df(x0)))\n",
    "        return newton_raphson(f, df, x0 - (f(x0) / df(x0)), tolerance, max - 1)"
   ]
  },
  {
   "cell_type": "code",
   "execution_count": 19,
   "metadata": {},
   "outputs": [
    {
     "ename": "TypeError",
     "evalue": "newton_raphson() takes 4 positional arguments but 5 were given",
     "output_type": "error",
     "traceback": [
      "\u001b[1;31m---------------------------------------------------------------------------\u001b[0m",
      "\u001b[1;31mTypeError\u001b[0m                                 Traceback (most recent call last)",
      "Cell \u001b[1;32mIn[19], line 6\u001b[0m\n\u001b[0;32m      4\u001b[0m tolerance \u001b[39m=\u001b[39m \u001b[39m0.001\u001b[39m\n\u001b[0;32m      5\u001b[0m \u001b[39mmax\u001b[39m \u001b[39m=\u001b[39m \u001b[39m5\u001b[39m\n\u001b[1;32m----> 6\u001b[0m \u001b[39mprint\u001b[39m(newton_raphson(f, df, x0, tolerance, \u001b[39mmax\u001b[39;49m))\n",
      "\u001b[1;31mTypeError\u001b[0m: newton_raphson() takes 4 positional arguments but 5 were given"
     ]
    }
   ],
   "source": [
    "f = lambda x : x**2-3\n",
    "df = lambda x : 2*x\n",
    "x0 = 1\n",
    "tolerance = 0.001\n",
    "max = 5\n",
    "print(newton_raphson(f, df, x0, tolerance, max))"
   ]
  }
 ],
 "metadata": {
  "kernelspec": {
   "display_name": "Python 3",
   "language": "python",
   "name": "python3"
  },
  "language_info": {
   "codemirror_mode": {
    "name": "ipython",
    "version": 3
   },
   "file_extension": ".py",
   "mimetype": "text/x-python",
   "name": "python",
   "nbconvert_exporter": "python",
   "pygments_lexer": "ipython3",
   "version": "3.11.0"
  },
  "orig_nbformat": 4
 },
 "nbformat": 4,
 "nbformat_minor": 2
}
