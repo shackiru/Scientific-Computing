{
 "cells": [
  {
   "cell_type": "code",
   "execution_count": 1,
   "metadata": {},
   "outputs": [],
   "source": [
    "import numpy as np\n",
    "import matplotlib.pyplot as plt\n",
    "from sympy import *"
   ]
  },
  {
   "cell_type": "code",
   "execution_count": 9,
   "metadata": {},
   "outputs": [],
   "source": [
    "mX = [\n",
    "        [\n",
    "            [2, -1, 1],\n",
    "            [1, 3, 1],\n",
    "            [2, 1, -4]\n",
    "        ],\n",
    "        [\n",
    "            [9, -1, 3],\n",
    "            [1, 2, 4],\n",
    "            [-8, -10, 9]\n",
    "        ],\n",
    "        [\n",
    "            [5, 2, -1, 1],\n",
    "            [0, 3, 2, 1],\n",
    "            [0, 2, 6, 0],\n",
    "            [1, 2, 1, -4]\n",
    "        ],\n",
    "]\n",
    "\n",
    "mY = [\n",
    "    [10, 20, -15],\n",
    "    [10, 40, 65],\n",
    "    [10, -20, 40, 70]\n",
    "]\n"
   ]
  },
  {
   "cell_type": "code",
   "execution_count": 30,
   "metadata": {},
   "outputs": [],
   "source": [
    "def dominant(x):\n",
    "    x = np.array(x)\n",
    "\n",
    "    diagonal = np.diag(np.abs(x))\n",
    "    sumWithDiagonal = np.sum(np.abs(x), axis = 1)\n",
    "    sumWithoutDiagonal = sumWithDiagonal - diagonal\n",
    "    # print(sumWithoutDiagonal)\n",
    "    # print(diagonal)\n",
    "    for i in range(len(x)):\n",
    "        print(f\"Diagonal: {i + 1}: {diagonal[i]}\")\n",
    "        printed = 0\n",
    "        print(f\"Total of Not diagonal Value: \", end = \" \")\n",
    "        for j, row in enumerate(x[i]):\n",
    "            if np.abs(row) != diagonal[i]:\n",
    "                print(f\"|{row}\", end = \" \")\n",
    "                printed = printed + 1\n",
    "\n",
    "            if printed == 1:\n",
    "                print(\"+\", end = \" \")\n",
    "                printed = printed + 1\n",
    "\n",
    "        print(f\" = {sumWithoutDiagonal[i]}\")\n",
    "\n",
    "        if diagonal[i] > sumWithoutDiagonal[i]:\n",
    "            print(f\"{diagonal[i]} > {sumWithoutDiagonal[i]}\")\n",
    "        else:\n",
    "            print(f\"{diagonal[i]} < {sumWithoutDiagonal[i]}\")\n",
    "\n",
    "    if np.all(diagonal > sumWithoutDiagonal):\n",
    "        return True\n",
    "    else:\n",
    "        return False\n"
   ]
  },
  {
   "cell_type": "code",
   "execution_count": 32,
   "metadata": {},
   "outputs": [],
   "source": [
    "def seidel(x, y, tol, max):\n",
    "    x = np.array(x)\n",
    "    y = np.array(y)\n",
    "    flag = 0\n",
    "    \n",
    "    diagonal = np.diag(x)\n",
    "    x = -x\n",
    "    np.fill_diagonal(x, 0)\n",
    "\n",
    "    xBef = np.zeros(x.shape[0])\n",
    "    for i in range(1, max + 1):\n",
    "        xNew = np.array(xBef)\n",
    "        if flag == 0:\n",
    "            for j, row in enumerate(x):\n",
    "                print(f\"X{j} = y{[j]}\", end = \" \")\n",
    "\n",
    "            for k, ele in enumerate(row):\n",
    "                if j != k:\n",
    "                    print(f\" + ({ele} x {k})\", end = \" \")\n",
    "\n",
    "            print(f\"/ {diagonal[j]}\")\n",
    "            flag = 1\n",
    "\n",
    "        print(f\"Iteration: {i}|\")\n",
    "        for j, row in enumerate(x):\n",
    "            xNew[j] (y[j] + np.dot(row, xNew)) / diagonal[j]\n",
    "            print(f\"X{j + 1} = \", end =\" \")\n",
    "            print(format(xNew[j], \".9f\"), end = \" \")\n",
    "\n",
    "        print(\"\")\n",
    "        distance = np.sqrt(np.dot(xNew - xBef, xNew - xBef))\n",
    "        if distance < tol:\n",
    "            return True\n",
    "        xBef = xNew\n",
    "    return False\n"
   ]
  },
  {
   "cell_type": "code",
   "execution_count": null,
   "metadata": {},
   "outputs": [],
   "source": [
    "for i, (x,y) in enumerate(zip(mX, mY)):\n",
    "    if(dominant(x)):\n",
    "        print(\"Diagonally Dominant\")\n",
    "        print(seidel(x, y, 0.00137, 8))\n",
    "    else:\n",
    "        print(\"Not Diagonally Dominant\")"
   ]
  },
  {
   "cell_type": "code",
   "execution_count": 35,
   "metadata": {},
   "outputs": [],
   "source": [
    "lx = [1, 15, 7, 12, 30, 9, 1, 34, 6, 18]\n",
    "ly = [45, 56, 97, 36, 99, 78, 100, 16, 45, 67]\n"
   ]
  },
  {
   "cell_type": "code",
   "execution_count": 37,
   "metadata": {},
   "outputs": [
    {
     "data": {
      "image/png": "[encoded data removed]",
      "text/plain": [
       "<Figure size 640x480 with 1 Axes>"
      ]
     },
     "metadata": {},
     "output_type": "display_data"
    }
   ],
   "source": [
    "A = np.vstack([lx, np.ones(len(lx))]).T\n",
    "Y = np.vstack(ly)\n",
    "\n",
    "invers = np.linalg.inv(np.dot(A.T, A))\n",
    "beta = np.dot(np.dot(invers, A.T), Y)\n",
    "\n",
    "m = beta[0]\n",
    "c = beta[1]\n",
    "\n",
    "yb = m * lx + c\n",
    "plt.plot(lx, ly, \"go\", label = \"(x, y) Points\")\n",
    "plt.plot(lx, yb, \"r-\", label = \"Least Square Regression\")\n",
    "plt.legend(loc = \"upper left\")\n",
    "plt.xlabel(\"X\")\n",
    "plt.ylabel(\"Y\")\n",
    "plt.title(\"Least Square Regression\")\n",
    "plt.show()"
   ]
  },
  {
   "cell_type": "code",
   "execution_count": 44,
   "metadata": {},
   "outputs": [
    {
     "name": "stdout",
     "output_type": "stream",
     "text": [
      "39\n",
      "Iteration 1, root: 0.7435897435897436\n",
      "Iteration 2, root: 0.5579764439933204\n",
      "Iteration 3, root: 0.4327953938413386\n",
      "Iteration 4, root: 0.36221271605649774\n",
      "Iteration 5, root: 0.33669918692652856\n",
      "Iteration 6, root: 0.33338653155338616\n",
      "True\n",
      "True\n"
     ]
    }
   ],
   "source": [
    "x = symbols('x')\n",
    "f1 = lambda x : 9*x**4 + 2*x**2 - x\n",
    "df1 = diff(f1(x), x)\n",
    "df1 = lambdify(x, df1, 'numpy')\n",
    "\n",
    "print(df1(1))\n",
    "\n",
    "f2 = lambda x : 7*x**7 - 5*x**4 + x - 3\n",
    "df2 = diff(f2(x), x)\n",
    "df2 = lambdify(x, df2, 'numpy')\n",
    "\n",
    "def NR(f, df, x, tol, max):\n",
    "    if max == 6:\n",
    "        return False\n",
    "    \n",
    "    if max > 0:\n",
    "        print(f\"Iteration {max}, root: {x}\")\n",
    "    \n",
    "    if np.abs(f(x)) < tol:\n",
    "        # print(x)\n",
    "        return True\n",
    "    \n",
    "    return NR(f, df, x - (f(x) / df(x)), tol, max + 1)\n",
    "\n",
    "print(NR(f1, df1, 1, 0.000762, 0))\n",
    "print(NR(f2, df2, 1, 0.000762, 0))"
   ]
  },
  {
   "cell_type": "code",
   "execution_count": 45,
   "metadata": {},
   "outputs": [
    {
     "name": "stdout",
     "output_type": "stream",
     "text": [
      "Left Riemann:  30239.909348618152\n",
      "Right Riemann:  25125.42658999747\n",
      "Mid Riemann:  27403.896799150552\n",
      "Trapezoid:  27682.66796930782\n"
     ]
    }
   ],
   "source": [
    "f = lambda x : 7*x**4 - 3*x**2 + 5\n",
    "\n",
    "uN = -7\n",
    "uP = 5\n",
    "n = 30\n",
    "\n",
    "x = np.linspace(uN, uP, n)\n",
    "width = (uP - uN) / (n - 1)\n",
    "\n",
    "xLeft = x[:-1]\n",
    "xRight = x[1:]\n",
    "xMid = (xLeft + xRight) / 2\n",
    "\n",
    "yL = f(xLeft)\n",
    "yR = f(xRight)\n",
    "yM = f(xMid)\n",
    "\n",
    "leftRie = width * np.sum(np.abs(yL))\n",
    "rightRie = width * np.sum(np.abs(yR))\n",
    "midRie = width * np.sum(np.abs(yM))\n",
    "\n",
    "trapezoid = width * np.sum(np.abs(yL) + (np.abs(yR))) / 2\n",
    "\n",
    "print(\"Left Riemann: \", leftRie)\n",
    "print(\"Right Riemann: \", rightRie)\n",
    "print(\"Mid Riemann: \", midRie)\n",
    "print(\"Trapezoid: \", trapezoid)"
   ]
  }
 ],
 "metadata": {
  "kernelspec": {
   "display_name": "Python 3",
   "language": "python",
   "name": "python3"
  },
  "language_info": {
   "codemirror_mode": {
    "name": "ipython",
    "version": 3
   },
   "file_extension": ".py",
   "mimetype": "text/x-python",
   "name": "python",
   "nbconvert_exporter": "python",
   "pygments_lexer": "ipython3",
   "version": "3.11.0"
  },
  "orig_nbformat": 4
 },
 "nbformat": 4,
 "nbformat_minor": 2
}
